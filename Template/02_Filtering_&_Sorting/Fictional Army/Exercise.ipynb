{
 "cells": [
  {
   "cell_type": "markdown",
   "metadata": {
    "ein.tags": [
     "worksheet-0"
    ],
    "slideshow": {
     "slide_type": "-"
    }
   },
   "source": [
    "# Fictional Army - Filtering and Sorting"
   ]
  },
  {
   "cell_type": "markdown",
   "metadata": {
    "ein.tags": [
     "worksheet-0"
    ],
    "slideshow": {
     "slide_type": "-"
    }
   },
   "source": [
    "### Introduction:\n",
    "\n",
    "This exercise was inspired by this [page](http://chrisalbon.com/python/)\n",
    "\n",
    "Special thanks to: https://github.com/chrisalbon for sharing the dataset and materials.\n",
    "\n",
    "### Step 1. Import the necessary libraries"
   ]
  },
  {
   "cell_type": "code",
   "execution_count": 3,
   "metadata": {
    "autoscroll": "json-false",
    "collapsed": false,
    "ein.tags": [
     "worksheet-0"
    ],
    "slideshow": {
     "slide_type": "-"
    }
   },
   "outputs": [],
   "source": [
    "import pandas as pd"
   ]
  },
  {
   "cell_type": "markdown",
   "metadata": {
    "ein.tags": [
     "worksheet-0"
    ],
    "slideshow": {
     "slide_type": "-"
    }
   },
   "source": [
    "### Step 2. This is the data given as a dictionary"
   ]
  },
  {
   "cell_type": "code",
   "execution_count": 4,
   "metadata": {
    "autoscroll": "json-false",
    "collapsed": false,
    "ein.tags": [
     "worksheet-0"
    ],
    "slideshow": {
     "slide_type": "-"
    }
   },
   "outputs": [],
   "source": [
    "# Create an example dataframe about a fictional army\n",
    "raw_data = {'regiment': ['Nighthawks', 'Nighthawks', 'Nighthawks', 'Nighthawks', 'Dragoons', 'Dragoons', 'Dragoons', 'Dragoons', 'Scouts', 'Scouts', 'Scouts', 'Scouts'],\n",
    "            'company': ['1st', '1st', '2nd', '2nd', '1st', '1st', '2nd', '2nd','1st', '1st', '2nd', '2nd'],\n",
    "            'deaths': [523, 52, 25, 616, 43, 234, 523, 62, 62, 73, 37, 35],\n",
    "            'battles': [5, 42, 2, 2, 4, 7, 8, 3, 4, 7, 8, 9],\n",
    "            'size': [1045, 957, 1099, 1400, 1592, 1006, 987, 849, 973, 1005, 1099, 1523],\n",
    "            'veterans': [1, 5, 62, 26, 73, 37, 949, 48, 48, 435, 63, 345],\n",
    "            'readiness': [1, 2, 3, 3, 2, 1, 2, 3, 2, 1, 2, 3],\n",
    "            'armored': [1, 0, 1, 1, 0, 1, 0, 1, 0, 0, 1, 1],\n",
    "            'deserters': [4, 24, 31, 2, 3, 4, 24, 31, 2, 3, 2, 3],\n",
    "            'origin': ['Arizona', 'California', 'Texas', 'Florida', 'Maine', 'Iowa', 'Alaska', 'Washington', 'Oregon', 'Wyoming', 'Louisana', 'Georgia']}"
   ]
  },
  {
   "cell_type": "markdown",
   "metadata": {
    "ein.tags": [
     "worksheet-0"
    ],
    "slideshow": {
     "slide_type": "-"
    }
   },
   "source": [
    "### Step 3. Create a dataframe and assign it to a variable called army. \n",
    "\n",
    "#### Don't forget to include the columns names"
   ]
  },
  {
   "cell_type": "code",
   "execution_count": 5,
   "metadata": {
    "autoscroll": "json-false",
    "collapsed": false,
    "ein.tags": [
     "worksheet-0"
    ],
    "slideshow": {
     "slide_type": "-"
    }
   },
   "outputs": [
    {
     "data": {
      "text/plain": [
       "   armored  battles company  deaths  deserters      origin  readiness  \\\n",
       "0        1        5     1st     523          4     Arizona          1   \n",
       "1        0       42     1st      52         24  California          2   \n",
       "2        1        2     2nd      25         31       Texas          3   \n",
       "3        1        2     2nd     616          2     Florida          3   \n",
       "4        0        4     1st      43          3       Maine          2   \n",
       "\n",
       "     regiment  size  veterans  \n",
       "0  Nighthawks  1045         1  \n",
       "1  Nighthawks   957         5  \n",
       "2  Nighthawks  1099        62  \n",
       "3  Nighthawks  1400        26  \n",
       "4    Dragoons  1592        73  "
      ]
     },
     "execution_count": 5,
     "metadata": {},
     "output_type": "execute_result"
    }
   ],
   "source": [
    "army=pd.DataFrame(raw_data)\n",
    "army.head(5)"
   ]
  },
  {
   "cell_type": "markdown",
   "metadata": {
    "ein.tags": [
     "worksheet-0"
    ],
    "slideshow": {
     "slide_type": "-"
    }
   },
   "source": [
    "### Step 4. Set the 'origin' colum as the index of the dataframe"
   ]
  },
  {
   "cell_type": "code",
   "execution_count": 9,
   "metadata": {
    "autoscroll": "json-false",
    "collapsed": false,
    "ein.tags": [
     "worksheet-0"
    ],
    "slideshow": {
     "slide_type": "-"
    }
   },
   "outputs": [],
   "source": [
    "army.index=army.origin"
   ]
  },
  {
   "cell_type": "markdown",
   "metadata": {
    "ein.tags": [
     "worksheet-0"
    ],
    "slideshow": {
     "slide_type": "-"
    }
   },
   "source": [
    "### Step 5. Print only the column veterans"
   ]
  },
  {
   "cell_type": "code",
   "execution_count": 10,
   "metadata": {
    "autoscroll": "json-false",
    "collapsed": false,
    "ein.tags": [
     "worksheet-0"
    ],
    "slideshow": {
     "slide_type": "-"
    }
   },
   "outputs": [
    {
     "data": {
      "text/plain": [
       "origin\n",
       "Arizona         1\n",
       "California      5\n",
       "Texas          62\n",
       "Florida        26\n",
       "Maine          73\n",
       "Iowa           37\n",
       "Alaska        949\n",
       "Washington     48\n",
       "Oregon         48\n",
       "Wyoming       435\n",
       "Louisana       63\n",
       "Georgia       345\n",
       "Name: veterans, dtype: int64"
      ]
     },
     "execution_count": 10,
     "metadata": {},
     "output_type": "execute_result"
    }
   ],
   "source": [
    "army.veterans"
   ]
  },
  {
   "cell_type": "markdown",
   "metadata": {
    "ein.tags": [
     "worksheet-0"
    ],
    "slideshow": {
     "slide_type": "-"
    }
   },
   "source": [
    "### Step 6. Print the columns 'veterans' and 'deaths'"
   ]
  },
  {
   "cell_type": "code",
   "execution_count": 12,
   "metadata": {
    "autoscroll": "json-false",
    "collapsed": false,
    "ein.tags": [
     "worksheet-0"
    ],
    "slideshow": {
     "slide_type": "-"
    }
   },
   "outputs": [
    {
     "data": {
      "text/plain": [
       "            veterans  deaths\n",
       "origin                      \n",
       "Arizona            1     523\n",
       "California         5      52\n",
       "Texas             62      25\n",
       "Florida           26     616\n",
       "Maine             73      43\n",
       "Iowa              37     234\n",
       "Alaska           949     523\n",
       "Washington        48      62\n",
       "Oregon            48      62\n",
       "Wyoming          435      73\n",
       "Louisana          63      37\n",
       "Georgia          345      35"
      ]
     },
     "execution_count": 12,
     "metadata": {},
     "output_type": "execute_result"
    }
   ],
   "source": [
    "army[['veterans','deaths']]"
   ]
  },
  {
   "cell_type": "markdown",
   "metadata": {
    "ein.tags": [
     "worksheet-0"
    ],
    "slideshow": {
     "slide_type": "-"
    }
   },
   "source": [
    "### Step 7. Print the name of all the columns."
   ]
  },
  {
   "cell_type": "code",
   "execution_count": 13,
   "metadata": {
    "autoscroll": "json-false",
    "collapsed": false,
    "ein.tags": [
     "worksheet-0"
    ],
    "slideshow": {
     "slide_type": "-"
    }
   },
   "outputs": [
    {
     "data": {
      "text/plain": [
       "Index([u'armored', u'battles', u'company', u'deaths', u'deserters', u'origin',\n",
       "       u'readiness', u'regiment', u'size', u'veterans'],\n",
       "      dtype='object')"
      ]
     },
     "execution_count": 13,
     "metadata": {},
     "output_type": "execute_result"
    }
   ],
   "source": [
    "army.columns"
   ]
  },
  {
   "cell_type": "markdown",
   "metadata": {
    "ein.tags": [
     "worksheet-0"
    ],
    "slideshow": {
     "slide_type": "-"
    }
   },
   "source": [
    "### Step 8. Select the 'deaths', 'size' and 'deserters' columns from Maine and Alaska"
   ]
  },
  {
   "cell_type": "code",
   "execution_count": 18,
   "metadata": {
    "autoscroll": "json-false",
    "collapsed": false,
    "ein.tags": [
     "worksheet-0"
    ],
    "slideshow": {
     "slide_type": "-"
    }
   },
   "outputs": [
    {
     "data": {
      "text/plain": [
       "        deaths  size  deserters\n",
       "origin                         \n",
       "Maine       43  1592          3\n",
       "Alaska     523   987         24"
      ]
     },
     "execution_count": 18,
     "metadata": {},
     "output_type": "execute_result"
    }
   ],
   "source": [
    "army.loc[['Maine','Alaska']][['deaths','size','deserters']]"
   ]
  },
  {
   "cell_type": "markdown",
   "metadata": {
    "ein.tags": [
     "worksheet-0"
    ],
    "slideshow": {
     "slide_type": "-"
    }
   },
   "source": [
    "### Step 9. Select the rows 3 to 7 and the columns 3 to 6"
   ]
  },
  {
   "cell_type": "code",
   "execution_count": 20,
   "metadata": {
    "autoscroll": "json-false",
    "collapsed": false,
    "ein.tags": [
     "worksheet-0"
    ],
    "slideshow": {
     "slide_type": "-"
    }
   },
   "outputs": [
    {
     "data": {
      "text/plain": [
       "         deaths  deserters   origin\n",
       "origin                             \n",
       "Florida     616          2  Florida\n",
       "Maine        43          3    Maine\n",
       "Iowa        234          4     Iowa\n",
       "Alaska      523         24   Alaska"
      ]
     },
     "execution_count": 20,
     "metadata": {},
     "output_type": "execute_result"
    }
   ],
   "source": [
    "army.iloc[3:7,3:6]"
   ]
  },
  {
   "cell_type": "markdown",
   "metadata": {
    "ein.tags": [
     "worksheet-0"
    ],
    "slideshow": {
     "slide_type": "-"
    }
   },
   "source": [
    "### Step 10. Select every row after the fourth row"
   ]
  },
  {
   "cell_type": "code",
   "execution_count": 21,
   "metadata": {
    "autoscroll": "json-false",
    "collapsed": false,
    "ein.tags": [
     "worksheet-0"
    ],
    "slideshow": {
     "slide_type": "-"
    }
   },
   "outputs": [
    {
     "data": {
      "text/plain": [
       "            armored  battles company  deaths  deserters      origin  \\\n",
       "origin                                                                \n",
       "Maine             0        4     1st      43          3       Maine   \n",
       "Iowa              1        7     1st     234          4        Iowa   \n",
       "Alaska            0        8     2nd     523         24      Alaska   \n",
       "Washington        1        3     2nd      62         31  Washington   \n",
       "Oregon            0        4     1st      62          2      Oregon   \n",
       "Wyoming           0        7     1st      73          3     Wyoming   \n",
       "Louisana          1        8     2nd      37          2    Louisana   \n",
       "Georgia           1        9     2nd      35          3     Georgia   \n",
       "\n",
       "            readiness  regiment  size  veterans  \n",
       "origin                                           \n",
       "Maine               2  Dragoons  1592        73  \n",
       "Iowa                1  Dragoons  1006        37  \n",
       "Alaska              2  Dragoons   987       949  \n",
       "Washington          3  Dragoons   849        48  \n",
       "Oregon              2    Scouts   973        48  \n",
       "Wyoming             1    Scouts  1005       435  \n",
       "Louisana            2    Scouts  1099        63  \n",
       "Georgia             3    Scouts  1523       345  "
      ]
     },
     "execution_count": 21,
     "metadata": {},
     "output_type": "execute_result"
    }
   ],
   "source": [
    "army.iloc[4:]"
   ]
  },
  {
   "cell_type": "markdown",
   "metadata": {
    "ein.tags": [
     "worksheet-0"
    ],
    "slideshow": {
     "slide_type": "-"
    }
   },
   "source": [
    "### Step 11. Select every row up to the 4th row"
   ]
  },
  {
   "cell_type": "code",
   "execution_count": 22,
   "metadata": {
    "autoscroll": "json-false",
    "collapsed": false,
    "ein.tags": [
     "worksheet-0"
    ],
    "slideshow": {
     "slide_type": "-"
    }
   },
   "outputs": [
    {
     "data": {
      "text/plain": [
       "            armored  battles company  deaths  deserters      origin  \\\n",
       "origin                                                                \n",
       "Arizona           1        5     1st     523          4     Arizona   \n",
       "California        0       42     1st      52         24  California   \n",
       "Texas             1        2     2nd      25         31       Texas   \n",
       "Florida           1        2     2nd     616          2     Florida   \n",
       "\n",
       "            readiness    regiment  size  veterans  \n",
       "origin                                             \n",
       "Arizona             1  Nighthawks  1045         1  \n",
       "California          2  Nighthawks   957         5  \n",
       "Texas               3  Nighthawks  1099        62  \n",
       "Florida             3  Nighthawks  1400        26  "
      ]
     },
     "execution_count": 22,
     "metadata": {},
     "output_type": "execute_result"
    }
   ],
   "source": [
    "army[:4]"
   ]
  },
  {
   "cell_type": "markdown",
   "metadata": {
    "ein.tags": [
     "worksheet-0"
    ],
    "slideshow": {
     "slide_type": "-"
    }
   },
   "source": [
    "### Step 12. Select the 3rd column up to the 7th column"
   ]
  },
  {
   "cell_type": "code",
   "execution_count": 24,
   "metadata": {
    "autoscroll": "json-false",
    "collapsed": false,
    "ein.tags": [
     "worksheet-0"
    ],
    "slideshow": {
     "slide_type": "-"
    }
   },
   "outputs": [
    {
     "data": {
      "text/plain": [
       "            deaths  deserters      origin  readiness\n",
       "origin                                              \n",
       "Arizona        523          4     Arizona          1\n",
       "California      52         24  California          2\n",
       "Texas           25         31       Texas          3\n",
       "Florida        616          2     Florida          3\n",
       "Maine           43          3       Maine          2\n",
       "Iowa           234          4        Iowa          1\n",
       "Alaska         523         24      Alaska          2\n",
       "Washington      62         31  Washington          3\n",
       "Oregon          62          2      Oregon          2\n",
       "Wyoming         73          3     Wyoming          1\n",
       "Louisana        37          2    Louisana          2\n",
       "Georgia         35          3     Georgia          3"
      ]
     },
     "execution_count": 24,
     "metadata": {},
     "output_type": "execute_result"
    }
   ],
   "source": [
    "army.iloc[:,3:7]"
   ]
  },
  {
   "cell_type": "markdown",
   "metadata": {
    "ein.tags": [
     "worksheet-0"
    ],
    "slideshow": {
     "slide_type": "-"
    }
   },
   "source": [
    "### Step 13. Select rows where df.deaths is greater than 50"
   ]
  },
  {
   "cell_type": "code",
   "execution_count": 25,
   "metadata": {
    "autoscroll": "json-false",
    "collapsed": false,
    "ein.tags": [
     "worksheet-0"
    ],
    "slideshow": {
     "slide_type": "-"
    }
   },
   "outputs": [
    {
     "data": {
      "text/plain": [
       "            armored  battles company  deaths  deserters      origin  \\\n",
       "origin                                                                \n",
       "Arizona           1        5     1st     523          4     Arizona   \n",
       "California        0       42     1st      52         24  California   \n",
       "Florida           1        2     2nd     616          2     Florida   \n",
       "Iowa              1        7     1st     234          4        Iowa   \n",
       "Alaska            0        8     2nd     523         24      Alaska   \n",
       "Washington        1        3     2nd      62         31  Washington   \n",
       "Oregon            0        4     1st      62          2      Oregon   \n",
       "Wyoming           0        7     1st      73          3     Wyoming   \n",
       "\n",
       "            readiness    regiment  size  veterans  \n",
       "origin                                             \n",
       "Arizona             1  Nighthawks  1045         1  \n",
       "California          2  Nighthawks   957         5  \n",
       "Florida             3  Nighthawks  1400        26  \n",
       "Iowa                1    Dragoons  1006        37  \n",
       "Alaska              2    Dragoons   987       949  \n",
       "Washington          3    Dragoons   849        48  \n",
       "Oregon              2      Scouts   973        48  \n",
       "Wyoming             1      Scouts  1005       435  "
      ]
     },
     "execution_count": 25,
     "metadata": {},
     "output_type": "execute_result"
    }
   ],
   "source": [
    "army[army.deaths>50]"
   ]
  },
  {
   "cell_type": "markdown",
   "metadata": {
    "ein.tags": [
     "worksheet-0"
    ],
    "slideshow": {
     "slide_type": "-"
    }
   },
   "source": [
    "### Step 14. Select rows where df.deaths is greater than 500 or less than 50"
   ]
  },
  {
   "cell_type": "code",
   "execution_count": 29,
   "metadata": {
    "autoscroll": "json-false",
    "collapsed": false,
    "ein.tags": [
     "worksheet-0"
    ],
    "slideshow": {
     "slide_type": "-"
    }
   },
   "outputs": [
    {
     "data": {
      "text/plain": [
       "          armored  battles company  deaths  deserters    origin  readiness  \\\n",
       "origin                                                                       \n",
       "Arizona         1        5     1st     523          4   Arizona          1   \n",
       "Texas           1        2     2nd      25         31     Texas          3   \n",
       "Florida         1        2     2nd     616          2   Florida          3   \n",
       "Maine           0        4     1st      43          3     Maine          2   \n",
       "Alaska          0        8     2nd     523         24    Alaska          2   \n",
       "Louisana        1        8     2nd      37          2  Louisana          2   \n",
       "Georgia         1        9     2nd      35          3   Georgia          3   \n",
       "\n",
       "            regiment  size  veterans  \n",
       "origin                                \n",
       "Arizona   Nighthawks  1045         1  \n",
       "Texas     Nighthawks  1099        62  \n",
       "Florida   Nighthawks  1400        26  \n",
       "Maine       Dragoons  1592        73  \n",
       "Alaska      Dragoons   987       949  \n",
       "Louisana      Scouts  1099        63  \n",
       "Georgia       Scouts  1523       345  "
      ]
     },
     "execution_count": 29,
     "metadata": {},
     "output_type": "execute_result"
    }
   ],
   "source": [
    "army[(army.deaths>500) | (army.deaths<50)]"
   ]
  },
  {
   "cell_type": "markdown",
   "metadata": {
    "ein.tags": [
     "worksheet-0"
    ],
    "slideshow": {
     "slide_type": "-"
    }
   },
   "source": [
    "### Step 15. Select all the regiments not named \"Dragoons\""
   ]
  },
  {
   "cell_type": "code",
   "execution_count": 31,
   "metadata": {
    "autoscroll": "json-false",
    "collapsed": false,
    "ein.tags": [
     "worksheet-0"
    ],
    "slideshow": {
     "slide_type": "-"
    }
   },
   "outputs": [
    {
     "data": {
      "text/plain": [
       "            armored  battles company  deaths  deserters      origin  \\\n",
       "origin                                                                \n",
       "Arizona           1        5     1st     523          4     Arizona   \n",
       "California        0       42     1st      52         24  California   \n",
       "Texas             1        2     2nd      25         31       Texas   \n",
       "Florida           1        2     2nd     616          2     Florida   \n",
       "Oregon            0        4     1st      62          2      Oregon   \n",
       "Wyoming           0        7     1st      73          3     Wyoming   \n",
       "Louisana          1        8     2nd      37          2    Louisana   \n",
       "Georgia           1        9     2nd      35          3     Georgia   \n",
       "\n",
       "            readiness    regiment  size  veterans  \n",
       "origin                                             \n",
       "Arizona             1  Nighthawks  1045         1  \n",
       "California          2  Nighthawks   957         5  \n",
       "Texas               3  Nighthawks  1099        62  \n",
       "Florida             3  Nighthawks  1400        26  \n",
       "Oregon              2      Scouts   973        48  \n",
       "Wyoming             1      Scouts  1005       435  \n",
       "Louisana            2      Scouts  1099        63  \n",
       "Georgia             3      Scouts  1523       345  "
      ]
     },
     "execution_count": 31,
     "metadata": {},
     "output_type": "execute_result"
    }
   ],
   "source": [
    "army[army.regiment != 'Dragoons']"
   ]
  },
  {
   "cell_type": "markdown",
   "metadata": {
    "ein.tags": [
     "worksheet-0"
    ],
    "slideshow": {
     "slide_type": "-"
    }
   },
   "source": [
    "### Step 16. Select the rows called Texas and Arizona"
   ]
  },
  {
   "cell_type": "code",
   "execution_count": 43,
   "metadata": {
    "autoscroll": "json-false",
    "collapsed": false,
    "ein.tags": [
     "worksheet-0"
    ],
    "slideshow": {
     "slide_type": "-"
    }
   },
   "outputs": [
    {
     "data": {
      "text/plain": [
       "         armored  battles company  deaths  deserters   origin  readiness  \\\n",
       "origin                                                                     \n",
       "Texas          1        2     2nd      25         31    Texas          3   \n",
       "Arizona        1        5     1st     523          4  Arizona          1   \n",
       "\n",
       "           regiment  size  veterans  \n",
       "origin                               \n",
       "Texas    Nighthawks  1099        62  \n",
       "Arizona  Nighthawks  1045         1  "
      ]
     },
     "execution_count": 43,
     "metadata": {},
     "output_type": "execute_result"
    }
   ],
   "source": [
    "army.ix[['Texas', 'Arizona']]"
   ]
  },
  {
   "cell_type": "markdown",
   "metadata": {
    "ein.tags": [
     "worksheet-0"
    ],
    "slideshow": {
     "slide_type": "-"
    }
   },
   "source": [
    "### Step 17. Select the third cell in the row named Arizona"
   ]
  },
  {
   "cell_type": "code",
   "execution_count": 47,
   "metadata": {
    "autoscroll": "json-false",
    "collapsed": false,
    "ein.tags": [
     "worksheet-0"
    ],
    "slideshow": {
     "slide_type": "-"
    }
   },
   "outputs": [
    {
     "data": {
      "text/plain": [
       "523"
      ]
     },
     "execution_count": 47,
     "metadata": {},
     "output_type": "execute_result"
    }
   ],
   "source": [
    "army.ix['Arizona'][3]"
   ]
  },
  {
   "cell_type": "markdown",
   "metadata": {
    "ein.tags": [
     "worksheet-0"
    ],
    "slideshow": {
     "slide_type": "-"
    }
   },
   "source": [
    "### Step 18. Select the third cell down in the column named deaths"
   ]
  },
  {
   "cell_type": "code",
   "execution_count": 42,
   "metadata": {
    "autoscroll": "json-false",
    "collapsed": false,
    "ein.tags": [
     "worksheet-0"
    ],
    "slideshow": {
     "slide_type": "-"
    }
   },
   "outputs": [
    {
     "data": {
      "text/plain": [
       "25"
      ]
     },
     "execution_count": 42,
     "metadata": {},
     "output_type": "execute_result"
    }
   ],
   "source": [
    "army['deaths'][2]"
   ]
  },
  {
   "cell_type": "code",
   "execution_count": 0,
   "metadata": {
    "autoscroll": "json-false",
    "collapsed": false,
    "ein.tags": [
     "worksheet-0"
    ],
    "slideshow": {
     "slide_type": "-"
    }
   },
   "outputs": [],
   "source": []
  }
 ],
 "metadata": {
  "kernelspec": {
   "display_name": "Python [Root]",
   "name": "Python [Root]"
  },
  "language_info": {
   "codemirror_mode": {
    "name": "ipython",
    "version": 2
   },
   "file_extension": ".py",
   "mimetype": "text/x-python",
   "name": "python",
   "nbconvert_exporter": "python",
   "pygments_lexer": "ipython2",
   "version": "2.7.12"
  },
  "name": "Exercise.ipynb"
 },
 "nbformat": 4,
 "nbformat_minor": 0
}
