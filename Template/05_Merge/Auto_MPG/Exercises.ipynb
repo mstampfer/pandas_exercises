{
 "cells": [
  {
   "cell_type": "markdown",
   "metadata": {
    "ein.tags": [
     "worksheet-0"
    ],
    "slideshow": {
     "slide_type": "-"
    }
   },
   "source": [
    "# MPG Cars"
   ]
  },
  {
   "cell_type": "markdown",
   "metadata": {
    "ein.tags": [
     "worksheet-0"
    ],
    "slideshow": {
     "slide_type": "-"
    }
   },
   "source": [
    "### Introduction:\n",
    "\n",
    "The following exercise utilizes data from [UC Irvine Machine Learning Repository](https://archive.ics.uci.edu/ml/datasets/Auto+MPG)\n",
    "\n",
    "### Step 1. Import the necessary libraries"
   ]
  },
  {
   "cell_type": "code",
   "execution_count": 27,
   "metadata": {
    "autoscroll": "json-false",
    "collapsed": false,
    "ein.tags": [
     "worksheet-0"
    ],
    "slideshow": {
     "slide_type": "-"
    }
   },
   "outputs": [],
   "source": [
    "import pandas as pd\n",
    "import random\n",
    "import numpy as np"
   ]
  },
  {
   "cell_type": "code",
   "execution_count": 0,
   "metadata": {
    "autoscroll": "json-false",
    "collapsed": false,
    "ein.tags": [
     "worksheet-0"
    ],
    "slideshow": {
     "slide_type": "-"
    }
   },
   "outputs": [],
   "source": []
  },
  {
   "cell_type": "markdown",
   "metadata": {
    "ein.tags": [
     "worksheet-0"
    ],
    "slideshow": {
     "slide_type": "-"
    }
   },
   "source": [
    "### Step 2. Import the first dataset [cars1](https://raw.githubusercontent.com/guipsamora/pandas_exercises/master/Merge/Auto_MPG/cars1.csv) and [cars2](https://raw.githubusercontent.com/guipsamora/pandas_exercises/master/Merge/Auto_MPG/cars2.csv).  "
   ]
  },
  {
   "cell_type": "markdown",
   "metadata": {
    "ein.tags": [
     "worksheet-0"
    ],
    "slideshow": {
     "slide_type": "-"
    }
   },
   "source": [
    "   ### Step 3. Assign each to a to a variable called cars1 and cars2"
   ]
  },
  {
   "cell_type": "code",
   "execution_count": 7,
   "metadata": {
    "autoscroll": "json-false",
    "collapsed": false,
    "ein.tags": [
     "worksheet-0"
    ],
    "slideshow": {
     "slide_type": "-"
    }
   },
   "outputs": [
    {
     "data": {
      "text/html": [
       "<div>\n<table border=\"1\" class=\"dataframe\">\n  <thead>\n    <tr style=\"text-align: right;\">\n      <th></th>\n      <th>mpg</th>\n      <th>cylinders</th>\n      <th>displacement</th>\n      <th>horsepower</th>\n      <th>weight</th>\n      <th>acceleration</th>\n      <th>model</th>\n      <th>origin</th>\n      <th>car</th>\n      <th>Unnamed: 9</th>\n      <th>Unnamed: 10</th>\n      <th>Unnamed: 11</th>\n      <th>Unnamed: 12</th>\n      <th>Unnamed: 13</th>\n    </tr>\n  </thead>\n  <tbody>\n    <tr>\n      <th>0</th>\n      <td>18.0</td>\n      <td>8</td>\n      <td>307</td>\n      <td>130</td>\n      <td>3504</td>\n      <td>12.0</td>\n      <td>70</td>\n      <td>1</td>\n      <td>chevrolet chevelle malibu</td>\n      <td>NaN</td>\n      <td>NaN</td>\n      <td>NaN</td>\n      <td>NaN</td>\n      <td>NaN</td>\n    </tr>\n    <tr>\n      <th>1</th>\n      <td>15.0</td>\n      <td>8</td>\n      <td>350</td>\n      <td>165</td>\n      <td>3693</td>\n      <td>11.5</td>\n      <td>70</td>\n      <td>1</td>\n      <td>buick skylark 320</td>\n      <td>NaN</td>\n      <td>NaN</td>\n      <td>NaN</td>\n      <td>NaN</td>\n      <td>NaN</td>\n    </tr>\n    <tr>\n      <th>2</th>\n      <td>18.0</td>\n      <td>8</td>\n      <td>318</td>\n      <td>150</td>\n      <td>3436</td>\n      <td>11.0</td>\n      <td>70</td>\n      <td>1</td>\n      <td>plymouth satellite</td>\n      <td>NaN</td>\n      <td>NaN</td>\n      <td>NaN</td>\n      <td>NaN</td>\n      <td>NaN</td>\n    </tr>\n    <tr>\n      <th>3</th>\n      <td>16.0</td>\n      <td>8</td>\n      <td>304</td>\n      <td>150</td>\n      <td>3433</td>\n      <td>12.0</td>\n      <td>70</td>\n      <td>1</td>\n      <td>amc rebel sst</td>\n      <td>NaN</td>\n      <td>NaN</td>\n      <td>NaN</td>\n      <td>NaN</td>\n      <td>NaN</td>\n    </tr>\n    <tr>\n      <th>4</th>\n      <td>17.0</td>\n      <td>8</td>\n      <td>302</td>\n      <td>140</td>\n      <td>3449</td>\n      <td>10.5</td>\n      <td>70</td>\n      <td>1</td>\n      <td>ford torino</td>\n      <td>NaN</td>\n      <td>NaN</td>\n      <td>NaN</td>\n      <td>NaN</td>\n      <td>NaN</td>\n    </tr>\n  </tbody>\n</table>\n</div>",
       "text/plain",
       "    mpg  cylinders  displacement horsepower  weight  acceleration  model  \\\n0  18.0          8           307        130    3504          12.0     70   \n1  15.0          8           350        165    3693          11.5     70   \n2  18.0          8           318        150    3436          11.0     70   \n3  16.0          8           304        150    3433          12.0     70   \n4  17.0          8           302        140    3449          10.5     70   \n\n   origin                        car  Unnamed: 9  Unnamed: 10  Unnamed: 11  \\\n0       1  chevrolet chevelle malibu         NaN          NaN          NaN   \n1       1          buick skylark 320         NaN          NaN          NaN   \n2       1         plymouth satellite         NaN          NaN          NaN   \n3       1              amc rebel sst         NaN          NaN          NaN   \n4       1                ford torino         NaN          NaN          NaN   \n\n   Unnamed: 12  Unnamed: 13  \n0          NaN          NaN  \n1          NaN          NaN  \n2          NaN          NaN  \n3          NaN          NaN  \n4          NaN          NaN  "
      ]
     },
     "execution_count": 7,
     "metadata": {},
     "output_type": "execute_result"
    }
   ],
   "source": [
    "cars1=pd.read_csv('cars1.csv')\n",
    "cars2=pd.read_csv('cars2.csv')\n",
    "cars1.head()"
   ]
  },
  {
   "cell_type": "code",
   "execution_count": 0,
   "metadata": {
    "autoscroll": "json-false",
    "collapsed": false,
    "ein.tags": [
     "worksheet-0"
    ],
    "slideshow": {
     "slide_type": "-"
    }
   },
   "outputs": [],
   "source": []
  },
  {
   "cell_type": "markdown",
   "metadata": {
    "ein.tags": [
     "worksheet-0"
    ],
    "slideshow": {
     "slide_type": "-"
    }
   },
   "source": [
    "### Step 4. Ops it seems our first dataset has some unnamed blank columns, fix cars1"
   ]
  },
  {
   "cell_type": "code",
   "execution_count": 14,
   "metadata": {
    "autoscroll": "json-false",
    "collapsed": false,
    "ein.tags": [
     "worksheet-0"
    ],
    "slideshow": {
     "slide_type": "-"
    }
   },
   "outputs": [
    {
     "data": {
      "text/html": [
       "<div>\n<table border=\"1\" class=\"dataframe\">\n  <thead>\n    <tr style=\"text-align: right;\">\n      <th></th>\n      <th>mpg</th>\n      <th>cylinders</th>\n      <th>displacement</th>\n      <th>horsepower</th>\n      <th>weight</th>\n      <th>acceleration</th>\n      <th>model</th>\n      <th>origin</th>\n      <th>car</th>\n    </tr>\n  </thead>\n  <tbody>\n    <tr>\n      <th>0</th>\n      <td>18.0</td>\n      <td>8</td>\n      <td>307</td>\n      <td>130</td>\n      <td>3504</td>\n      <td>12.0</td>\n      <td>70</td>\n      <td>1</td>\n      <td>chevrolet chevelle malibu</td>\n    </tr>\n    <tr>\n      <th>1</th>\n      <td>15.0</td>\n      <td>8</td>\n      <td>350</td>\n      <td>165</td>\n      <td>3693</td>\n      <td>11.5</td>\n      <td>70</td>\n      <td>1</td>\n      <td>buick skylark 320</td>\n    </tr>\n    <tr>\n      <th>2</th>\n      <td>18.0</td>\n      <td>8</td>\n      <td>318</td>\n      <td>150</td>\n      <td>3436</td>\n      <td>11.0</td>\n      <td>70</td>\n      <td>1</td>\n      <td>plymouth satellite</td>\n    </tr>\n    <tr>\n      <th>3</th>\n      <td>16.0</td>\n      <td>8</td>\n      <td>304</td>\n      <td>150</td>\n      <td>3433</td>\n      <td>12.0</td>\n      <td>70</td>\n      <td>1</td>\n      <td>amc rebel sst</td>\n    </tr>\n    <tr>\n      <th>4</th>\n      <td>17.0</td>\n      <td>8</td>\n      <td>302</td>\n      <td>140</td>\n      <td>3449</td>\n      <td>10.5</td>\n      <td>70</td>\n      <td>1</td>\n      <td>ford torino</td>\n    </tr>\n  </tbody>\n</table>\n</div>",
       "text/plain",
       "    mpg  cylinders  displacement horsepower  weight  acceleration  model  \\\n0  18.0          8           307        130    3504          12.0     70   \n1  15.0          8           350        165    3693          11.5     70   \n2  18.0          8           318        150    3436          11.0     70   \n3  16.0          8           304        150    3433          12.0     70   \n4  17.0          8           302        140    3449          10.5     70   \n\n   origin                        car  \n0       1  chevrolet chevelle malibu  \n1       1          buick skylark 320  \n2       1         plymouth satellite  \n3       1              amc rebel sst  \n4       1                ford torino  "
      ]
     },
     "execution_count": 14,
     "metadata": {},
     "output_type": "execute_result"
    }
   ],
   "source": [
    "cars1= cars1[[e for e in cars1.columns if 'Unnamed' not in e]]\n",
    "cars1.head()\n"
   ]
  },
  {
   "cell_type": "markdown",
   "metadata": {
    "ein.tags": [
     "worksheet-0"
    ],
    "slideshow": {
     "slide_type": "-"
    }
   },
   "source": [
    "### Step 5. What is the number of observations in each dataset?"
   ]
  },
  {
   "cell_type": "code",
   "execution_count": 16,
   "metadata": {
    "autoscroll": "json-false",
    "collapsed": false,
    "ein.tags": [
     "worksheet-0"
    ],
    "slideshow": {
     "slide_type": "-"
    }
   },
   "outputs": [
    {
     "name": "stdout",
     "output_type": "stream",
     "text": [
      "198\n",
      "200\n"
     ]
    }
   ],
   "source": [
    "print cars1.shape[0]\n",
    "print cars2.shape[0]\n"
   ]
  },
  {
   "cell_type": "markdown",
   "metadata": {
    "ein.tags": [
     "worksheet-0"
    ],
    "slideshow": {
     "slide_type": "-"
    }
   },
   "source": [
    "### Step 6. Join cars1 and cars2 into a single DataFrame called cars"
   ]
  },
  {
   "cell_type": "code",
   "execution_count": 52,
   "metadata": {
    "autoscroll": "json-false",
    "collapsed": false,
    "ein.tags": [
     "worksheet-0"
    ],
    "slideshow": {
     "slide_type": "-"
    }
   },
   "outputs": [
    {
     "data": {
      "text/html": [
       "<div>\n<table border=\"1\" class=\"dataframe\">\n  <thead>\n    <tr style=\"text-align: right;\">\n      <th></th>\n      <th>mpg</th>\n      <th>cylinders</th>\n      <th>displacement</th>\n      <th>horsepower</th>\n      <th>weight</th>\n      <th>acceleration</th>\n      <th>model</th>\n      <th>origin</th>\n      <th>car</th>\n    </tr>\n  </thead>\n  <tbody>\n    <tr>\n      <th>0</th>\n      <td>18.0</td>\n      <td>8</td>\n      <td>307</td>\n      <td>130</td>\n      <td>3504</td>\n      <td>12.0</td>\n      <td>70</td>\n      <td>1</td>\n      <td>chevrolet chevelle malibu</td>\n    </tr>\n    <tr>\n      <th>1</th>\n      <td>15.0</td>\n      <td>8</td>\n      <td>350</td>\n      <td>165</td>\n      <td>3693</td>\n      <td>11.5</td>\n      <td>70</td>\n      <td>1</td>\n      <td>buick skylark 320</td>\n    </tr>\n    <tr>\n      <th>2</th>\n      <td>18.0</td>\n      <td>8</td>\n      <td>318</td>\n      <td>150</td>\n      <td>3436</td>\n      <td>11.0</td>\n      <td>70</td>\n      <td>1</td>\n      <td>plymouth satellite</td>\n    </tr>\n    <tr>\n      <th>3</th>\n      <td>16.0</td>\n      <td>8</td>\n      <td>304</td>\n      <td>150</td>\n      <td>3433</td>\n      <td>12.0</td>\n      <td>70</td>\n      <td>1</td>\n      <td>amc rebel sst</td>\n    </tr>\n    <tr>\n      <th>4</th>\n      <td>17.0</td>\n      <td>8</td>\n      <td>302</td>\n      <td>140</td>\n      <td>3449</td>\n      <td>10.5</td>\n      <td>70</td>\n      <td>1</td>\n      <td>ford torino</td>\n    </tr>\n  </tbody>\n</table>\n</div>",
       "text/plain",
       "    mpg  cylinders  displacement horsepower  weight  acceleration  model  \\\n0  18.0          8           307        130    3504          12.0     70   \n1  15.0          8           350        165    3693          11.5     70   \n2  18.0          8           318        150    3436          11.0     70   \n3  16.0          8           304        150    3433          12.0     70   \n4  17.0          8           302        140    3449          10.5     70   \n\n   origin                        car  \n0       1  chevrolet chevelle malibu  \n1       1          buick skylark 320  \n2       1         plymouth satellite  \n3       1              amc rebel sst  \n4       1                ford torino  "
      ]
     },
     "execution_count": 52,
     "metadata": {},
     "output_type": "execute_result"
    }
   ],
   "source": [
    "cars = pd.concat([cars1,cars2])\n",
    "cars.head()"
   ]
  },
  {
   "cell_type": "markdown",
   "metadata": {
    "ein.tags": [
     "worksheet-0"
    ],
    "slideshow": {
     "slide_type": "-"
    }
   },
   "source": [
    "### Step 7. Ops there is a column missing, called owners. Create a random number Series from 15,000 to 73,000."
   ]
  },
  {
   "cell_type": "code",
   "execution_count": 54,
   "metadata": {
    "autoscroll": "json-false",
    "collapsed": false,
    "ein.tags": [
     "worksheet-0"
    ],
    "slideshow": {
     "slide_type": "-"
    }
   },
   "outputs": [
    {
     "data": {
      "text/plain": [
       "array([52468, 55475, 52806, 15408, 25503, 69207, 35959, 29995, 46369,\n",
       "       60643, 17801, 39753, 46645, 50654, 35102, 24687, 31500, 45934,\n",
       "       51269, 22859, 45003, 34838, 22348, 39362, 53998, 18139, 50068,\n",
       "       58576, 64460, 50237, 23334, 26588, 47600, 67257, 36866, 62183,\n",
       "       27782, 47787, 39874, 20228, 18052, 37982, 19268, 19265, 53879,\n",
       "       33123, 38476, 16555, 35799, 34290, 40164, 72506, 16445, 26835,\n",
       "       55755, 30332, 22384, 59438, 71233, 17233, 72679, 18451, 43883,\n",
       "       57321, 24674, 71361, 21208, 60835, 63984, 28989, 65568, 71760,\n",
       "       52154, 45738, 49002, 38082, 59893, 68403, 37837, 32208, 67188,\n",
       "       69869, 36104, 68887, 50916, 15082, 44942, 33672, 50342, 30893,\n",
       "       26238, 72799, 45700, 23696, 25216, 68271, 45804, 21681, 31954,\n",
       "       32972, 45375, 20178, 72473, 34830, 18336, 22125, 51732, 24709,\n",
       "       61512, 49077, 17547, 52914, 65132, 34326, 38147, 50024, 70134,\n",
       "       34038, 58690, 43268, 15538, 41859, 51038, 48804, 49031, 22472,\n",
       "       61487, 26916, 65770, 23735, 67463, 71909, 67277, 36100, 30898,\n",
       "       51311, 57666, 59584, 59635, 41594, 44795, 38698, 35893, 37178,\n",
       "       70202, 41760, 33072, 54014, 66510, 30061, 22624, 24179, 39187,\n",
       "       50015, 44456, 35278, 48791, 36958, 60877, 19961, 57723, 24041,\n",
       "       44327, 42306, 63551, 16266, 45647, 38370, 55912, 45908, 21000,\n",
       "       15526, 57852, 31040, 52052, 57467, 25446, 31301, 55015, 38549,\n",
       "       59275, 70421, 24181, 40494, 26507, 43882, 57909, 23975, 15855,\n",
       "       68965, 43699, 55528, 16637, 29545, 60165, 33730, 72530, 41816,\n",
       "       17439, 37647, 38546, 30966, 72439, 71955, 56827, 63306, 38193,\n",
       "       49090, 17502, 25689, 20319, 28766, 67725, 32494, 18404, 34375,\n",
       "       67598, 65834, 22512, 30416, 72982, 49569, 32047, 55868, 30048,\n",
       "       36084, 36432, 55147, 33328, 20925, 25172, 25471, 36699, 38719,\n",
       "       71053, 47093, 26481, 29016, 71633, 59582, 56725, 30767, 15986,\n",
       "       31798, 40610, 72180, 48477, 66816, 37965, 52015, 23749, 68342,\n",
       "       67414, 55526, 33410, 43963, 44656, 60677, 32055, 55544, 71597,\n",
       "       39502, 65279, 29978, 50282, 52949, 22372, 44663, 42058, 47463,\n",
       "       69003, 70387, 15392, 25533, 52080, 29096, 47846, 45704, 49652,\n",
       "       50056, 71058, 64031, 26250, 43222, 46192, 29193, 51828, 23239,\n",
       "       28866, 25925, 56086, 22930, 23766, 22443, 23257, 56429, 68057,\n",
       "       19058, 32118, 54853, 49624, 19935, 39197, 57012, 41041, 44165,\n",
       "       19930, 26458, 65580, 52876, 55868, 45212, 17860, 37148, 48044,\n",
       "       68520, 21184, 51780, 51295, 44459, 17660, 34830, 31601, 50312,\n",
       "       41820, 72637, 51444, 52983, 28931, 67235, 53619, 66971, 22756,\n",
       "       61709, 63438, 41189, 26782, 18175, 15669, 41031, 29340, 63644,\n",
       "       67142, 63427, 46297, 31313, 44634, 33254, 46735, 15798, 18103,\n",
       "       56918, 55795, 52751, 63122, 33461, 24733, 62730, 35871, 53336,\n",
       "       59912, 44634, 36309, 62282, 27343, 20542, 67595, 52928, 69525,\n",
       "       63066, 66115, 60962, 27288, 33866, 64445, 62730, 18459, 72400,\n",
       "       31377, 59696, 59280, 44852, 47986, 56969, 63545, 65092, 33034,\n",
       "       53448, 45875, 43797, 63886, 50047, 52868, 43062, 43881, 62288,\n",
       "       29612, 31037])"
      ]
     },
     "execution_count": 54,
     "metadata": {},
     "output_type": "execute_result"
    },
    {
     "name": "stderr",
     "output_type": "stream",
     "text": [
      "/Users/marcel/anaconda2/lib/python2.7/site-packages/ipykernel/__main__.py:1: DeprecationWarning: This function is deprecated. Please call randint(15000, 73000 + 1) instead\n",
      "  if __name__ == '__main__':\n"
     ]
    }
   ],
   "source": [
    "owners=np.random.random_integers(15000,73000,398)\n",
    "owners"
   ]
  },
  {
   "cell_type": "markdown",
   "metadata": {
    "ein.tags": [
     "worksheet-0"
    ],
    "slideshow": {
     "slide_type": "-"
    }
   },
   "source": [
    "### Step 8. Add the column owners to cars"
   ]
  },
  {
   "cell_type": "code",
   "execution_count": 55,
   "metadata": {
    "autoscroll": "json-false",
    "collapsed": false,
    "ein.tags": [
     "worksheet-0"
    ],
    "slideshow": {
     "slide_type": "-"
    }
   },
   "outputs": [],
   "source": [
    "cars['owners']=owners"
   ]
  },
  {
   "cell_type": "code",
   "execution_count": 56,
   "metadata": {
    "autoscroll": "json-false",
    "collapsed": false,
    "ein.tags": [
     "worksheet-0"
    ],
    "slideshow": {
     "slide_type": "-"
    }
   },
   "outputs": [
    {
     "data": {
      "text/plain": [
       "    mpg  cylinders  displacement horsepower  weight  acceleration  model  \\\n",
       "0  18.0          8           307        130    3504          12.0     70   \n",
       "1  15.0          8           350        165    3693          11.5     70   \n",
       "2  18.0          8           318        150    3436          11.0     70   \n",
       "3  16.0          8           304        150    3433          12.0     70   \n",
       "4  17.0          8           302        140    3449          10.5     70   \n",
       "\n",
       "   origin                        car  owners  \n",
       "0       1  chevrolet chevelle malibu   52468  \n",
       "1       1          buick skylark 320   55475  \n",
       "2       1         plymouth satellite   52806  \n",
       "3       1              amc rebel sst   15408  \n",
       "4       1                ford torino   25503  "
      ]
     },
     "execution_count": 56,
     "metadata": {},
     "output_type": "execute_result"
    }
   ],
   "source": [
    "cars.head()"
   ]
  },
  {
   "cell_type": "code",
   "execution_count": 0,
   "metadata": {
    "autoscroll": "json-false",
    "collapsed": false,
    "ein.tags": [
     "worksheet-0"
    ],
    "slideshow": {
     "slide_type": "-"
    }
   },
   "outputs": [],
   "source": []
  }
 ],
 "metadata": {
  "kernelspec": {
   "display_name": "Python [Root]",
   "name": "Python [Root]"
  },
  "language_info": {
   "codemirror_mode": {
    "name": "ipython",
    "version": 2
   },
   "file_extension": ".py",
   "mimetype": "text/x-python",
   "name": "python",
   "nbconvert_exporter": "python",
   "pygments_lexer": "ipython2",
   "version": "2.7.12"
  },
  "name": "Exercises.ipynb"
 },
 "nbformat": 4,
 "nbformat_minor": 0
}
