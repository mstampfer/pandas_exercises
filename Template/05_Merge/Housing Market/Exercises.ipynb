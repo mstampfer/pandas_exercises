{
 "cells": [
  {
   "cell_type": "markdown",
   "metadata": {
    "ein.tags": [
     "worksheet-0"
    ],
    "slideshow": {
     "slide_type": "-"
    }
   },
   "source": [
    "# Housing Market"
   ]
  },
  {
   "cell_type": "markdown",
   "metadata": {
    "ein.tags": [
     "worksheet-0"
    ],
    "slideshow": {
     "slide_type": "-"
    }
   },
   "source": [
    "### Introduction:\n",
    "\n",
    "This time we will create our own dataset with fictional numbers to describe a house market. As we are going to create random data don't try to reason of the numbers.\n",
    "\n",
    "### Step 1. Import the necessary libraries"
   ]
  },
  {
   "cell_type": "code",
   "execution_count": 2,
   "metadata": {
    "autoscroll": "json-false",
    "collapsed": false,
    "ein.tags": [
     "worksheet-0"
    ],
    "slideshow": {
     "slide_type": "-"
    }
   },
   "outputs": [],
   "source": [
    "import pandas as pd\n",
    "import numpy as np\n",
    "import random"
   ]
  },
  {
   "cell_type": "markdown",
   "metadata": {
    "ein.tags": [
     "worksheet-0"
    ],
    "slideshow": {
     "slide_type": "-"
    }
   },
   "source": [
    "### Step 2. Create 3 differents Series, each of length 100, as follows: \n",
    "1. The first a random number from 1 to 4 \n",
    "2. The second a random number from 1 to 3\n",
    "3. The third a random number from 10,000 to 30,000\n"
   ]
  },
  {
   "cell_type": "code",
   "execution_count": 35,
   "metadata": {
    "autoscroll": "json-false",
    "collapsed": false,
    "ein.tags": [
     "worksheet-0"
    ],
    "slideshow": {
     "slide_type": "-"
    }
   },
   "outputs": [],
   "source": [
    "first=pd.Series(np.random.randint(1,5,100))\n",
    "second=pd.Series(np.random.randint(1,5,100))\n",
    "third=pd.Series(np.random.randint(10000,30001,100))"
   ]
  },
  {
   "cell_type": "markdown",
   "metadata": {
    "ein.tags": [
     "worksheet-0"
    ],
    "slideshow": {
     "slide_type": "-"
    }
   },
   "source": [
    "### Step 3. Let's create a DataFrame by joinning the Series by column"
   ]
  },
  {
   "cell_type": "code",
   "execution_count": 36,
   "metadata": {
    "autoscroll": "json-false",
    "collapsed": false,
    "ein.tags": [
     "worksheet-0"
    ],
    "slideshow": {
     "slide_type": "-"
    }
   },
   "outputs": [],
   "source": [
    "df = pd.concat([first,second,third], axis=1)"
   ]
  },
  {
   "cell_type": "markdown",
   "metadata": {
    "ein.tags": [
     "worksheet-0"
    ],
    "slideshow": {
     "slide_type": "-"
    }
   },
   "source": [
    "### Step 4. Change the name of the columns to bedrs, bathrs, price_sqr_meter"
   ]
  },
  {
   "cell_type": "code",
   "execution_count": 37,
   "metadata": {
    "autoscroll": "json-false",
    "collapsed": false,
    "ein.tags": [
     "worksheet-0"
    ],
    "slideshow": {
     "slide_type": "-"
    }
   },
   "outputs": [
    {
     "data": {
      "text/plain": [
       "    bedrs  bathrs  price_sqr_meter\n",
       "0       4       3            24415\n",
       "1       2       3            10208\n",
       "2       4       2            21327\n",
       "3       2       3            14929\n",
       "4       2       4            29196\n",
       "5       2       1            27643\n",
       "6       3       1            22584\n",
       "7       1       3            25521\n",
       "8       4       2            15275\n",
       "9       2       4            11020\n",
       "10      3       3            27976\n",
       "11      4       2            28108\n",
       "12      1       1            15351\n",
       "13      4       1            18693\n",
       "14      4       4            13131\n",
       "15      2       1            26063\n",
       "16      4       4            23322\n",
       "17      1       2            12813\n",
       "18      4       4            15813\n",
       "19      3       1            27119\n",
       "20      2       4            16951\n",
       "21      2       3            17038\n",
       "22      2       2            26756\n",
       "23      4       3            22059\n",
       "24      2       2            29051\n",
       "25      3       1            12132\n",
       "26      4       4            26671\n",
       "27      1       3            23185\n",
       "28      3       4            15390\n",
       "29      2       2            18968\n",
       "..    ...     ...              ...\n",
       "70      1       1            28287\n",
       "71      3       1            27692\n",
       "72      1       1            14095\n",
       "73      1       3            12350\n",
       "74      3       2            11811\n",
       "75      3       3            10641\n",
       "76      2       1            15593\n",
       "77      1       3            27261\n",
       "78      2       3            22066\n",
       "79      3       2            26167\n",
       "80      1       1            24876\n",
       "81      1       1            18033\n",
       "82      2       4            13390\n",
       "83      2       4            14255\n",
       "84      4       2            12049\n",
       "85      2       1            28934\n",
       "86      2       2            19361\n",
       "87      2       1            18742\n",
       "88      3       1            16503\n",
       "89      1       3            26756\n",
       "90      3       1            27490\n",
       "91      1       1            10609\n",
       "92      1       4            17906\n",
       "93      3       4            10285\n",
       "94      4       3            29779\n",
       "95      1       4            29352\n",
       "96      1       2            19831\n",
       "97      4       2            17316\n",
       "98      2       1            15166\n",
       "99      2       2            11984\n",
       "\n",
       "[100 rows x 3 columns]"
      ]
     },
     "execution_count": 37,
     "metadata": {},
     "output_type": "execute_result"
    }
   ],
   "source": [
    "df.columns=['bedrs', 'bathrs', 'price_sqr_meter']"
   ]
  },
  {
   "cell_type": "markdown",
   "metadata": {
    "ein.tags": [
     "worksheet-0"
    ],
    "slideshow": {
     "slide_type": "-"
    }
   },
   "source": [
    "### Step 5. Create a one column DataFrame with the values of the 3 Series and assign it to 'bigcolumn'"
   ]
  },
  {
   "cell_type": "code",
   "execution_count": 50,
   "metadata": {
    "autoscroll": "json-false",
    "collapsed": false,
    "ein.tags": [
     "worksheet-0"
    ],
    "slideshow": {
     "slide_type": "-"
    }
   },
   "outputs": [
    {
     "data": {
      "text/plain": [
       "<bound method Series.tail of 0          4\n",
       "1          2\n",
       "2          4\n",
       "3          2\n",
       "4          2\n",
       "5          2\n",
       "6          3\n",
       "7          1\n",
       "8          4\n",
       "9          2\n",
       "10         3\n",
       "11         4\n",
       "12         1\n",
       "13         4\n",
       "14         4\n",
       "15         2\n",
       "16         4\n",
       "17         1\n",
       "18         4\n",
       "19         3\n",
       "20         2\n",
       "21         2\n",
       "22         2\n",
       "23         4\n",
       "24         2\n",
       "25         3\n",
       "26         4\n",
       "27         1\n",
       "28         3\n",
       "29         2\n",
       "       ...  \n",
       "270    28287\n",
       "271    27692\n",
       "272    14095\n",
       "273    12350\n",
       "274    11811\n",
       "275    10641\n",
       "276    15593\n",
       "277    27261\n",
       "278    22066\n",
       "279    26167\n",
       "280    24876\n",
       "281    18033\n",
       "282    13390\n",
       "283    14255\n",
       "284    12049\n",
       "285    28934\n",
       "286    19361\n",
       "287    18742\n",
       "288    16503\n",
       "289    26756\n",
       "290    27490\n",
       "291    10609\n",
       "292    17906\n",
       "293    10285\n",
       "294    29779\n",
       "295    29352\n",
       "296    19831\n",
       "297    17316\n",
       "298    15166\n",
       "299    11984\n",
       "dtype: int64>"
      ]
     },
     "execution_count": 50,
     "metadata": {},
     "output_type": "execute_result"
    }
   ],
   "source": [
    "bigcolumn = pd.concat([first,second,third])\n",
    "bigcolumn.reset_index(drop=True, inplace=True)\n",
    "bigcolumn.tail"
   ]
  },
  {
   "cell_type": "markdown",
   "metadata": {
    "ein.tags": [
     "worksheet-0"
    ],
    "slideshow": {
     "slide_type": "-"
    }
   },
   "source": [
    "### Step 6. Ops it seems it is going only until index 99. Is it true?"
   ]
  },
  {
   "cell_type": "code",
   "execution_count": 43,
   "metadata": {
    "autoscroll": "json-false",
    "collapsed": false,
    "ein.tags": [
     "worksheet-0"
    ],
    "slideshow": {
     "slide_type": "-"
    }
   },
   "outputs": [
    {
     "data": {
      "text/plain": [
       "Int64Index([ 0,  1,  2,  3,  4,  5,  6,  7,  8,  9,\n",
       "            ...\n",
       "            90, 91, 92, 93, 94, 95, 96, 97, 98, 99],\n",
       "           dtype='int64', length=300)"
      ]
     },
     "execution_count": 43,
     "metadata": {},
     "output_type": "execute_result"
    }
   ],
   "source": [
    "bigcolumn.index"
   ]
  },
  {
   "cell_type": "markdown",
   "metadata": {
    "ein.tags": [
     "worksheet-0"
    ],
    "slideshow": {
     "slide_type": "-"
    }
   },
   "source": [
    "### Step 7. Reindex the DataFrame so it goes from 0 to 299"
   ]
  },
  {
   "cell_type": "code",
   "execution_count": 51,
   "metadata": {
    "autoscroll": "json-false",
    "collapsed": false,
    "ein.tags": [
     "worksheet-0"
    ],
    "slideshow": {
     "slide_type": "-"
    }
   },
   "outputs": [
    {
     "data": {
      "text/plain": [
       "295    29352\n",
       "296    19831\n",
       "297    17316\n",
       "298    15166\n",
       "299    11984\n",
       "dtype: int64"
      ]
     },
     "execution_count": 51,
     "metadata": {},
     "output_type": "execute_result"
    }
   ],
   "source": [
    "# bigcolumn.index = range(0,300)\n",
    "bigcolumn.reset_index(drop=True,inplace=True)\n",
    "bigcolumn.tail()"
   ]
  }
 ],
 "metadata": {
  "kernelspec": {
   "display_name": "Python 2",
   "language": "python",
   "name": "python2"
  },
  "language_info": {
   "codemirror_mode": {
    "name": "ipython",
    "version": 2
   },
   "file_extension": ".py",
   "mimetype": "text/x-python",
   "name": "python",
   "nbconvert_exporter": "python",
   "pygments_lexer": "ipython2",
   "version": "2.7.11"
  },
  "name": "Exercises.ipynb"
 },
 "nbformat": 4,
 "nbformat_minor": 0
}
