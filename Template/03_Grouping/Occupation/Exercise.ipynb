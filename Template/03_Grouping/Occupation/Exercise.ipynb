{
 "cells": [
  {
   "cell_type": "markdown",
   "metadata": {
    "ein.tags": [
     "worksheet-0"
    ],
    "slideshow": {
     "slide_type": "-"
    }
   },
   "source": [
    "# Occupation"
   ]
  },
  {
   "cell_type": "markdown",
   "metadata": {
    "ein.tags": [
     "worksheet-0"
    ],
    "slideshow": {
     "slide_type": "-"
    }
   },
   "source": [
    "### Introduction:\n",
    "\n",
    "Special thanks to: https://github.com/justmarkham for sharing the dataset and materials.\n",
    "\n",
    "### Step 1. Import the necessary libraries"
   ]
  },
  {
   "cell_type": "code",
   "execution_count": 1,
   "metadata": {
    "autoscroll": "json-false",
    "collapsed": false,
    "ein.tags": [
     "worksheet-0"
    ],
    "slideshow": {
     "slide_type": "-"
    }
   },
   "outputs": [],
   "source": [
    "import pandas as pd"
   ]
  },
  {
   "cell_type": "markdown",
   "metadata": {
    "ein.tags": [
     "worksheet-0"
    ],
    "slideshow": {
     "slide_type": "-"
    }
   },
   "source": [
    "### Step 2. Import the dataset from this [address](https://raw.githubusercontent.com/justmarkham/DAT8/master/data/u.user). "
   ]
  },
  {
   "cell_type": "markdown",
   "metadata": {
    "ein.tags": [
     "worksheet-0"
    ],
    "slideshow": {
     "slide_type": "-"
    }
   },
   "source": [
    "### Step 3. Assign it to a variable called users."
   ]
  },
  {
   "cell_type": "code",
   "execution_count": 5,
   "metadata": {
    "autoscroll": "json-false",
    "collapsed": false,
    "ein.tags": [
     "worksheet-0"
    ],
    "slideshow": {
     "slide_type": "-"
    }
   },
   "outputs": [
    {
     "data": {
      "text/plain": [
       "   user_id  age gender  occupation zip_code\n",
       "0        1   24      M  technician    85711\n",
       "1        2   53      F       other    94043\n",
       "2        3   23      M      writer    32067\n",
       "3        4   24      M  technician    43537\n",
       "4        5   33      F       other    15213"
      ]
     },
     "execution_count": 5,
     "metadata": {},
     "output_type": "execute_result"
    },
    {
     "name": "stderr",
     "output_type": "stream",
     "text": [
      "/Users/marcel/anaconda2/lib/python2.7/site-packages/ipykernel/__main__.py:1: ParserWarning: Falling back to the 'python' engine because the 'c' engine does not support regex separators (separators > 1 char and different from '\\s+' are interpreted as regex); you can avoid this warning by specifying engine='python'.\n",
      "  if __name__ == '__main__':\n"
     ]
    }
   ],
   "source": [
    "users=pd.read_table('https://raw.githubusercontent.com/justmarkham/DAT8/master/data/u.user', sep='\\|')\n",
    "users.head()"
   ]
  },
  {
   "cell_type": "markdown",
   "metadata": {
    "ein.tags": [
     "worksheet-0"
    ],
    "slideshow": {
     "slide_type": "-"
    }
   },
   "source": [
    "### Step 4. Discover what is the mean age per occupation"
   ]
  },
  {
   "cell_type": "code",
   "execution_count": 8,
   "metadata": {
    "autoscroll": "json-false",
    "collapsed": false,
    "ein.tags": [
     "worksheet-0"
    ],
    "slideshow": {
     "slide_type": "-"
    }
   },
   "outputs": [
    {
     "data": {
      "text/plain": [
       "occupation\n",
       "student          22.081633\n",
       "none             26.555556\n",
       "entertainment    29.222222\n",
       "artist           31.392857\n",
       "homemaker        32.571429\n",
       "programmer       33.121212\n",
       "technician       33.148148\n",
       "other            34.523810\n",
       "scientist        35.548387\n",
       "salesman         35.666667\n",
       "writer           36.311111\n",
       "engineer         36.388060\n",
       "lawyer           36.750000\n",
       "marketing        37.615385\n",
       "executive        38.718750\n",
       "administrator    38.746835\n",
       "librarian        40.000000\n",
       "healthcare       41.562500\n",
       "educator         42.010526\n",
       "doctor           43.571429\n",
       "retired          63.071429\n",
       "Name: age, dtype: float64"
      ]
     },
     "execution_count": 8,
     "metadata": {},
     "output_type": "execute_result"
    }
   ],
   "source": [
    "users.groupby('occupation').age.mean().sort_values(ascending='False')"
   ]
  },
  {
   "cell_type": "markdown",
   "metadata": {
    "ein.tags": [
     "worksheet-0"
    ],
    "slideshow": {
     "slide_type": "-"
    }
   },
   "source": [
    "### Step 5. Discover the Male ratio per occupation and sort it from the most to the least"
   ]
  },
  {
   "cell_type": "code",
   "execution_count": 89,
   "metadata": {
    "autoscroll": "json-false",
    "collapsed": false,
    "ein.tags": [
     "worksheet-0"
    ],
    "slideshow": {
     "slide_type": "-"
    }
   },
   "outputs": [
    {
     "data": {
      "text/plain": [
       "doctor           100.000000\n",
       "engineer          97.014925\n",
       "technician        96.296296\n",
       "retired           92.857143\n",
       "programmer        90.909091\n",
       "executive         90.625000\n",
       "scientist         90.322581\n",
       "entertainment     88.888889\n",
       "lawyer            83.333333\n",
       "salesman          75.000000\n",
       "educator          72.631579\n",
       "student           69.387755\n",
       "other             65.714286\n",
       "marketing         61.538462\n",
       "writer            57.777778\n",
       "none              55.555556\n",
       "administrator     54.430380\n",
       "artist            53.571429\n",
       "librarian         43.137255\n",
       "healthcare        31.250000\n",
       "homemaker         14.285714\n",
       "dtype: float64"
      ]
     },
     "execution_count": 89,
     "metadata": {},
     "output_type": "execute_result"
    }
   ],
   "source": [
    "grouped = users.groupby(['occupation'])\n",
    "s=pd.Series()\n",
    "for name, group in grouped.gender:\n",
    "    s[name] = group.value_counts()['M']/float(group.count())*100\n",
    "s.sort_values(ascending=False)"
   ]
  },
  {
   "cell_type": "markdown",
   "metadata": {
    "ein.tags": [
     "worksheet-0"
    ],
    "slideshow": {
     "slide_type": "-"
    }
   },
   "source": [
    "### Step 6. For each occupation, calculate the minimum and maximum ages"
   ]
  },
  {
   "cell_type": "code",
   "execution_count": 91,
   "metadata": {
    "autoscroll": "json-false",
    "collapsed": false,
    "ein.tags": [
     "worksheet-0"
    ],
    "slideshow": {
     "slide_type": "-"
    }
   },
   "outputs": [
    {
     "data": {
      "text/plain": [
       "               min  max\n",
       "occupation             \n",
       "administrator   21   70\n",
       "artist          19   48\n",
       "doctor          28   64\n",
       "educator        23   63\n",
       "engineer        22   70\n",
       "entertainment   15   50\n",
       "executive       22   69\n",
       "healthcare      22   62\n",
       "homemaker       20   50\n",
       "lawyer          21   53\n",
       "librarian       23   69\n",
       "marketing       24   55\n",
       "none            11   55\n",
       "other           13   64\n",
       "programmer      20   63\n",
       "retired         51   73\n",
       "salesman        18   66\n",
       "scientist       23   55\n",
       "student          7   42\n",
       "technician      21   55\n",
       "writer          18   60"
      ]
     },
     "execution_count": 91,
     "metadata": {},
     "output_type": "execute_result"
    }
   ],
   "source": [
    "grouped.age.agg(['min','max'])"
   ]
  },
  {
   "cell_type": "markdown",
   "metadata": {
    "ein.tags": [
     "worksheet-0"
    ],
    "slideshow": {
     "slide_type": "-"
    }
   },
   "source": [
    "### Step 7. For each combination of occupation and gender, calculate the mean age"
   ]
  },
  {
   "cell_type": "code",
   "execution_count": 93,
   "metadata": {
    "autoscroll": "json-false",
    "collapsed": false,
    "ein.tags": [
     "worksheet-0"
    ],
    "slideshow": {
     "slide_type": "-"
    }
   },
   "outputs": [
    {
     "data": {
      "text/plain": [
       "                           mean\n",
       "occupation    gender           \n",
       "administrator F       40.638889\n",
       "              M       37.162791\n",
       "artist        F       30.307692\n",
       "              M       32.333333\n",
       "doctor        M       43.571429\n",
       "educator      F       39.115385\n",
       "              M       43.101449\n",
       "engineer      F       29.500000\n",
       "              M       36.600000\n",
       "entertainment F       31.000000\n",
       "              M       29.000000\n",
       "executive     F       44.000000\n",
       "              M       38.172414\n",
       "healthcare    F       39.818182\n",
       "              M       45.400000\n",
       "homemaker     F       34.166667\n",
       "              M       23.000000\n",
       "lawyer        F       39.500000\n",
       "              M       36.200000\n",
       "librarian     F       40.000000\n",
       "              M       40.000000\n",
       "marketing     F       37.200000\n",
       "              M       37.875000\n",
       "none          F       36.500000\n",
       "              M       18.600000\n",
       "other         F       35.472222\n",
       "              M       34.028986\n",
       "programmer    F       32.166667\n",
       "              M       33.216667\n",
       "retired       F       70.000000\n",
       "              M       62.538462\n",
       "salesman      F       27.000000\n",
       "              M       38.555556\n",
       "scientist     F       28.333333\n",
       "              M       36.321429\n",
       "student       F       20.750000\n",
       "              M       22.669118\n",
       "technician    F       38.000000\n",
       "              M       32.961538\n",
       "writer        F       37.631579\n",
       "              M       35.346154"
      ]
     },
     "execution_count": 93,
     "metadata": {},
     "output_type": "execute_result"
    }
   ],
   "source": [
    "users.groupby(['occupation','gender']).age.agg(['mean'])"
   ]
  },
  {
   "cell_type": "markdown",
   "metadata": {
    "ein.tags": [
     "worksheet-0"
    ],
    "slideshow": {
     "slide_type": "-"
    }
   },
   "source": [
    "### Step 8.  For each occupation present the percentage of women and men"
   ]
  },
  {
   "cell_type": "code",
   "execution_count": 106,
   "metadata": {
    "autoscroll": "json-false",
    "collapsed": false,
    "ein.tags": [
     "worksheet-0"
    ],
    "slideshow": {
     "slide_type": "-"
    }
   },
   "outputs": [
    {
     "name": "stdout",
     "output_type": "stream",
     "text": [
      "administrator\n",
      "Male 54.4303797468\n",
      "Female 45.5696202532\n",
      "artist\n",
      "Male 53.5714285714\n",
      "Female 46.4285714286\n",
      "doctor\n",
      "Male 100.0\n",
      "Female 0.0\n",
      "educator\n",
      "Male 72.6315789474\n",
      "Female 27.3684210526\n",
      "engineer\n",
      "Male 97.0149253731\n",
      "Female 2.98507462687\n",
      "entertainment\n",
      "Male 88.8888888889\n",
      "Female 11.1111111111\n",
      "executive\n",
      "Male 90.625\n",
      "Female 9.375\n",
      "healthcare\n",
      "Male 31.25\n",
      "Female 68.75\n",
      "homemaker\n",
      "Male 14.2857142857\n",
      "Female 85.7142857143\n",
      "lawyer\n",
      "Male 83.3333333333\n",
      "Female 16.6666666667\n",
      "librarian\n",
      "Male 43.137254902\n",
      "Female 56.862745098\n",
      "marketing\n",
      "Male 61.5384615385\n",
      "Female 38.4615384615\n",
      "none\n",
      "Male 55.5555555556\n",
      "Female 44.4444444444\n",
      "other\n",
      "Male 65.7142857143\n",
      "Female 34.2857142857\n",
      "programmer\n",
      "Male 90.9090909091\n",
      "Female 9.09090909091\n",
      "retired\n",
      "Male 92.8571428571\n",
      "Female 7.14285714286\n",
      "salesman\n",
      "Male 75.0\n",
      "Female 25.0\n",
      "scientist\n",
      "Male 90.3225806452\n",
      "Female 9.67741935484\n",
      "student\n",
      "Male 69.387755102\n",
      "Female 30.612244898\n",
      "technician\n",
      "Male 96.2962962963\n",
      "Female 3.7037037037\n",
      "writer\n",
      "Male 57.7777777778\n",
      "Female 42.2222222222\n"
     ]
    }
   ],
   "source": [
    "grouped = users.groupby(['occupation'])\n",
    "for name, group in grouped.gender:\n",
    "    print name\n",
    "    males = group.value_counts()['M']/float(group.count())*100\n",
    "    print 'Male ' + str(males)\n",
    "    print 'Female ' + str(100-males)"
   ]
  },
  {
   "cell_type": "code",
   "execution_count": 105,
   "metadata": {
    "autoscroll": "json-false",
    "collapsed": false,
    "ein.tags": [
     "worksheet-0"
    ],
    "slideshow": {
     "slide_type": "-"
    }
   },
   "outputs": [
    {
     "data": {
      "text/plain": [
       "occupation     gender\n",
       "administrator  F          36\n",
       "               M          43\n",
       "artist         F          13\n",
       "               M          15\n",
       "doctor         M           7\n",
       "educator       F          26\n",
       "               M          69\n",
       "engineer       F           2\n",
       "               M          65\n",
       "entertainment  F           2\n",
       "               M          16\n",
       "executive      F           3\n",
       "               M          29\n",
       "healthcare     F          11\n",
       "               M           5\n",
       "homemaker      F           6\n",
       "               M           1\n",
       "lawyer         F           2\n",
       "               M          10\n",
       "librarian      F          29\n",
       "               M          22\n",
       "marketing      F          10\n",
       "               M          16\n",
       "none           F           4\n",
       "               M           5\n",
       "other          F          36\n",
       "               M          69\n",
       "programmer     F           6\n",
       "               M          60\n",
       "retired        F           1\n",
       "               M          13\n",
       "salesman       F           3\n",
       "               M           9\n",
       "scientist      F           3\n",
       "               M          28\n",
       "student        F          60\n",
       "               M         136\n",
       "technician     F           1\n",
       "               M          26\n",
       "writer         F          19\n",
       "               M          26\n",
       "Name: user_id, dtype: int64"
      ]
     },
     "execution_count": 105,
     "metadata": {},
     "output_type": "execute_result"
    }
   ],
   "source": [
    "users.groupby(['occupation','gender']).user_id.count()"
   ]
  },
  {
   "cell_type": "code",
   "execution_count": 0,
   "metadata": {
    "autoscroll": "json-false",
    "collapsed": false,
    "ein.tags": [
     "worksheet-0"
    ],
    "slideshow": {
     "slide_type": "-"
    }
   },
   "outputs": [],
   "source": []
  }
 ],
 "metadata": {
  "kernelspec": {
   "display_name": "Python 2",
   "language": "python",
   "name": "python2"
  },
  "language_info": {
   "codemirror_mode": {
    "name": "ipython",
    "version": 2
   },
   "file_extension": ".py",
   "mimetype": "text/x-python",
   "name": "python",
   "nbconvert_exporter": "python",
   "pygments_lexer": "ipython2",
   "version": "2.7.11"
  },
  "name": "Exercise.ipynb"
 },
 "nbformat": 4,
 "nbformat_minor": 0
}
